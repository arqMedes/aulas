{
 "cells": [
  {
   "cell_type": "markdown",
   "metadata": {},
   "source": [
    "# Semicondutor Extrínsico\n",
    "## do Tipo p\n",
    "\n",
    "![](https://wiki.ifsc.edu.br/mediawiki/images/8/8e/Dopagemp.png)\n",
    "\n",
    "\n",
    "# Semicondutor Extrínsico\n",
    "## do Tipo n\n",
    "\n",
    "![](https://slideplayer.com.br/slide/3627825/11/images/14/Semicondutor+dopado+tipo+N+Si+P%2B.jpg)\n",
    "\n",
    "\n",
    "## Junção PN e recombinação\n",
    "\n",
    "![](img/juncaoPN.png)\n",
    "\n",
    "quando se junta um cristal tipo P com um tipo N, forma-se uma junçaõ pn, também conhecida como DIODO. Vê-se o que é chamado de fenômeno da recombinação entre elétrons e lacunas e como é gerada a barreira de potencial, também conhecida como camada de depleção. \n",
    "\n",
    "![](img/camadaDepleção.png)"
   ]
  },
  {
   "cell_type": "code",
   "execution_count": null,
   "metadata": {},
   "outputs": [],
   "source": []
  }
 ],
 "metadata": {
  "kernelspec": {
   "display_name": "Python 3",
   "language": "python",
   "name": "python3"
  },
  "language_info": {
   "codemirror_mode": {
    "name": "ipython",
    "version": 3
   },
   "file_extension": ".py",
   "mimetype": "text/x-python",
   "name": "python",
   "nbconvert_exporter": "python",
   "pygments_lexer": "ipython3",
   "version": "3.7.6"
  }
 },
 "nbformat": 4,
 "nbformat_minor": 2
}
