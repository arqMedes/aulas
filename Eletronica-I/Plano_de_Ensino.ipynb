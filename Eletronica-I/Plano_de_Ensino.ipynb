{
 "cells": [
  {
   "cell_type": "markdown",
   "metadata": {},
   "source": [
    "## IFG\n",
    "\n",
    "# Eletrônica Geral I\n",
    "\n",
    "Prof. Arquimedes\n",
    "\n",
    "Ementa: Circuitos com diodos de sinal, diodos retificadores, diodos especiais e circuitos com transistores.\n",
    "\n",
    "\n",
    "Conteúdo:\n",
    "\n",
    "\n",
    "\n",
    "[Plano Anterior](pdf/PlanoEletronica.pdf)\n",
    "\n",
    "\n",
    "+ [Aula 01](Aula01.ipynb)\n",
    "+ [Aula 02]()\n",
    "\n"
   ]
  },
  {
   "cell_type": "code",
   "execution_count": null,
   "metadata": {},
   "outputs": [],
   "source": []
  },
  {
   "cell_type": "markdown",
   "metadata": {},
   "source": [
    "https://www.newtoncbraga.com.br/index.php/como-funciona/15159-como-funciona-o-diodo-semicondutor-art3971\n",
    "\n",
    "\n",
    "https://www.mundodaeletrica.com.br/o-que-e-diodo-semicondutor-e-como-funciona/\n"
   ]
  },
  {
   "cell_type": "markdown",
   "metadata": {},
   "source": [
    "# Bibliografia\n",
    "\n"
   ]
  },
  {
   "cell_type": "code",
   "execution_count": null,
   "metadata": {},
   "outputs": [],
   "source": []
  }
 ],
 "metadata": {
  "kernelspec": {
   "display_name": "Python 3",
   "language": "python",
   "name": "python3"
  },
  "language_info": {
   "codemirror_mode": {
    "name": "ipython",
    "version": 3
   },
   "file_extension": ".py",
   "mimetype": "text/x-python",
   "name": "python",
   "nbconvert_exporter": "python",
   "pygments_lexer": "ipython3",
   "version": "3.7.6"
  }
 },
 "nbformat": 4,
 "nbformat_minor": 2
}
