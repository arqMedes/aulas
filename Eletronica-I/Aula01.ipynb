{
 "cells": [
  {
   "cell_type": "markdown",
   "metadata": {},
   "source": [
    "Evolução dos Componentes Eletrônicos\n",
    "\n",
    "História da Eletrônica\n",
    "\n",
    "+ [Referência 1](http://www.fazano.pro.br/indice.html)\n",
    "+ [Referência 2](https://www.tecmundo.com.br/eletronica/45954-como-funciona-um-circuito-integrado-ilustracao-.htm)\n",
    "\n",
    "Características dos Semicondutores\n",
    "\n",
    "O que são os materiais semicondutores? \n",
    "\n",
    "diz-se de ou substância com resistividade entre a de um condutor e a de um isolante, e que pode variar segundo as condições físicas a que está submetida [A condução ocorre pelo movimento dos portadores de carga, elétrons, buracos ou íons. São exemplos de semicondutores o silício e o germânio.].\n",
    "\n",
    "![](https://encrypted-tbn0.gstatic.com/images?q=tbn%3AANd9GcRLFxSWi8R_VAFhsWYs1Vn1KR2ZxnR_ga_WV7B6qJmrXQslfY2H)\n",
    "\n",
    "![](https://encrypted-tbn0.gstatic.com/images?q=tbn%3AANd9GcQWaW25-CMaTdWOMGv_3cW71h1JVyJSGFvvbqEqA_f3Hcj8NqZz)\n",
    "\n",
    "![](img/condSemIso.png)\n",
    "\n",
    "![](https://www.electronica-pt.com/imagens/silicio-germanio.gif)\n",
    "\n",
    "![](https://lh3.googleusercontent.com/proxy/uhYe8Cdnmd4v-vPX2pTYLUoRnq9nnOfSdTHjMn7H-WX-m35QP1Rz9XURzJRMDy-4bqRExwrW0VFG07fhQmcjWLGdCLmh8xegaH_eMd9mUU7-3mDmUr0wJ0pvMVafaPxg2w)\n",
    "\n",
    "Na Eletrônica usa-se mais o Sílicio que o Germânio. Material facilmente encontrado. \n",
    "\n",
    "Em escala industrial, o silício é produzido pela reação do óxido com coque. Mas, para obter um silício ultrapuro, realiza-se a decomposição do silano (SiH4) ou de tetrahaletos de silício a altas temperaturas.\n",
    "\n",
    "Esse silício ultrapuro é importante para a fabricação de semicondutores para uso em equipamentos eletrônicos, tais como:\n",
    "\n",
    "Diodos:componente eletrônico que é um excelente condutor quando submetido à tensão no sentido direto, mas péssimo condutor quando submetido à tensão no sentido oposto;\n",
    "\n",
    "Transistores:componente eletrônico que amplifica sinais elétricos;\n",
    "\n",
    "Microprocessadores:componente eletrônico que interpreta um conjunto de instruções e realiza operações lógicas e matemáticas.\n",
    "\n",
    "Com o silício puro é possível obter lâminas extremamente finas, que são utilizadas na produção de chips com dimensões cada vez menores, usados em circuitos integrados de computadores e outros.\n",
    "\n",
    "O que é um semicondutor intrínseco? \n",
    "\n",
    "\n",
    "\n",
    "Como são feitas as ligações covalentes entre os átomos semicondutores? \n",
    "\n",
    "\n",
    "\n",
    "\n",
    "+ http://fourier.eng.hmc.edu/e84/lectures/ch4/node1.html\n",
    "\n",
    "https://youtu.be/snLCgz7W22Y"
   ]
  },
  {
   "cell_type": "code",
   "execution_count": null,
   "metadata": {},
   "outputs": [],
   "source": []
  }
 ],
 "metadata": {
  "kernelspec": {
   "display_name": "Python 3",
   "language": "python",
   "name": "python3"
  },
  "language_info": {
   "codemirror_mode": {
    "name": "ipython",
    "version": 3
   },
   "file_extension": ".py",
   "mimetype": "text/x-python",
   "name": "python",
   "nbconvert_exporter": "python",
   "pygments_lexer": "ipython3",
   "version": "3.7.6"
  }
 },
 "nbformat": 4,
 "nbformat_minor": 2
}
