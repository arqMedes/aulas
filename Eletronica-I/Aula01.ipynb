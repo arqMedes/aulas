{
 "cells": [
  {
   "cell_type": "markdown",
   "metadata": {},
   "source": [
    "Evolução dos Componentes Eletrônicos\n",
    "\n",
    "História da Eletrônica\n",
    "\n",
    "+ [Referência 1](http://www.fazano.pro.br/indice.html)\n",
    "+ [Referência 2](https://www.tecmundo.com.br/eletronica/45954-como-funciona-um-circuito-integrado-ilustracao-.htm)\n",
    "\n",
    "Características dos Semicondutores\n",
    "\n",
    "O que são os materiais semicondutores? O que é um semicondutor intrínseco? Como são feitas as ligações covalentes entre os átomos semicondutores? \n",
    "\n",
    "\n",
    "+ http://fourier.eng.hmc.edu/e84/lectures/ch4/node1.html\n",
    "\n",
    "https://youtu.be/snLCgz7W22Y"
   ]
  },
  {
   "cell_type": "code",
   "execution_count": null,
   "metadata": {},
   "outputs": [],
   "source": []
  }
 ],
 "metadata": {
  "kernelspec": {
   "display_name": "Python 3",
   "language": "python",
   "name": "python3"
  },
  "language_info": {
   "codemirror_mode": {
    "name": "ipython",
    "version": 3
   },
   "file_extension": ".py",
   "mimetype": "text/x-python",
   "name": "python",
   "nbconvert_exporter": "python",
   "pygments_lexer": "ipython3",
   "version": "3.7.6"
  }
 },
 "nbformat": 4,
 "nbformat_minor": 2
}
