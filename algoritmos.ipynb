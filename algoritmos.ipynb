{
 "cells": [
  {
   "cell_type": "code",
   "execution_count": null,
   "metadata": {
    "collapsed": true
   },
   "outputs": [],
   "source": [
    "# Reseolvendo Algoritmos em Python\n",
    "## by *ALSACML*\n",
    "\n",
    "![](https://github.com/arqMedes/imgCirc/blob/master/anoBissexto.png?raw=true)"
   ]
  },
  {
   "cell_type": "code",
   "execution_count": null,
   "metadata": {
    "collapsed": true
   },
   "outputs": [],
   "source": []
  },
  {
   "cell_type": "code",
   "execution_count": null,
   "metadata": {
    "collapsed": true
   },
   "outputs": [],
   "source": []
  },
  {
   "cell_type": "markdown",
   "metadata": {},
   "source": [
    "![](https://github.com/arqMedes/imgCirc/blob/master/raizes2grau.png?raw=true)"
   ]
  },
  {
   "cell_type": "code",
   "execution_count": 21,
   "metadata": {
    "collapsed": false
   },
   "outputs": [
    {
     "name": "stdout",
     "output_type": "stream",
     "text": [
      "Digite os coeficientes da equação do 2ª grau: a b c 15 17 89\n",
      "Raizes Imaginárias\n"
     ]
    }
   ],
   "source": [
    "import math \n",
    "eq = input(\"Digite os coeficientes da equação do 2ª grau: a b c \")\n",
    "eq = eq.split(' ')\n",
    "a = int(eq[0])\n",
    "b = int(eq[1])\n",
    "c = int(eq[2])\n",
    "\n",
    "delta = b*b - 4*a*c\n",
    "\n",
    "if (delta == 0):\n",
    "    x1 = (-b + math.sqrt(delta))/(2*a)\n",
    "    print(\"Raiz Única\")\n",
    "    print(\"X1 = \", x1)\n",
    "elif (delta > 0):\n",
    "    x1 = (-b + math.sqrt(delta))/(2*a)\n",
    "    x2 = (-b - math.sqrt(delta))/(2*a)\n",
    "    print(\"Raizes Distintas\")\n",
    "    print(\"X1 = \", x1)\n",
    "    print(\"X2 = \", x2)\n",
    "else:\n",
    "    print(\"Raizes Imaginárias\")"
   ]
  },
  {
   "cell_type": "code",
   "execution_count": 15,
   "metadata": {
    "collapsed": false
   },
   "outputs": [
    {
     "data": {
      "text/plain": [
       "2"
      ]
     },
     "execution_count": 15,
     "metadata": {},
     "output_type": "execute_result"
    }
   ],
   "source": [
    "a"
   ]
  },
  {
   "cell_type": "markdown",
   "metadata": {},
   "source": [
    "![](https://github.com/arqMedes/imgCirc/blob/master/transcDatas.png?raw=true)"
   ]
  },
  {
   "cell_type": "markdown",
   "metadata": {
    "collapsed": true
   },
   "source": [
    "Faça um programa que calcule o Mínimo Múltiplo Comum (MMC) de 3 números inteiros. A Figura abaixo\n",
    "apresenta um exemplo de cálculo de MMC.\n",
    "\n",
    "\n",
    "![](https://encrypted-tbn0.gstatic.com/images?q=tbn:ANd9GcRaeNBvBt_KugJxHgmU3WpSvhBa9STu6QP1_ICfxypPLEhVe2LW)"
   ]
  },
  {
   "cell_type": "code",
   "execution_count": 37,
   "metadata": {
    "collapsed": false
   },
   "outputs": [
    {
     "name": "stdout",
     "output_type": "stream",
     "text": [
      "15 24 60 : 2\n",
      "15 12 30 : 2\n",
      "15 6 15 : 2\n",
      "15 3 15 : 3\n",
      "5 1 5 : 5\n",
      "O mmc eh 120\n"
     ]
    }
   ],
   "source": [
    "# Entrada a, b e c\n",
    "a = 15\n",
    "b = 24\n",
    "c = 60\n",
    "\n",
    "# variaveis auxiliares\n",
    "key = -1\n",
    "div = 2\n",
    "mmc = 1\n",
    "\n",
    "\n",
    "while not((a == 1)&(b == 1)&(c == 1)):\n",
    "    print (\"%d %d %d : %d\" %(a, b, c, div))\n",
    "    if (a%div == 0):\n",
    "        a = a//div\n",
    "        key = 1\n",
    "    if (b%div == 0):\n",
    "        b = b//div\n",
    "        key = 1\n",
    "    if (c%div == 0):\n",
    "        c = c//div\n",
    "        key = 1\n",
    "    \n",
    "    if (key == 1):\n",
    "        mmc *= div\n",
    "        key = -1\n",
    "    \n",
    "        \n",
    "    while  not((a == 1)&(b == 1)&(c == 1)) and ((a%div != 0)&(b%div != 0)&(c%div != 0)):\n",
    "        div += 1\n",
    "    \n",
    "print (\"O mmc eh %d\" % mmc)\n",
    "    \n"
   ]
  },
  {
   "cell_type": "code",
   "execution_count": null,
   "metadata": {
    "collapsed": false
   },
   "outputs": [],
   "source": [
    "a"
   ]
  },
  {
   "cell_type": "code",
   "execution_count": 23,
   "metadata": {
    "collapsed": false
   },
   "outputs": [
    {
     "data": {
      "text/plain": [
       "True"
      ]
     },
     "execution_count": 23,
     "metadata": {},
     "output_type": "execute_result"
    }
   ],
   "source": [
    "not((a == 1)&(b == 1)&(c == 1))"
   ]
  },
  {
   "cell_type": "code",
   "execution_count": 29,
   "metadata": {
    "collapsed": false
   },
   "outputs": [
    {
     "data": {
      "text/plain": [
       "(15, 6, 15, 2)"
      ]
     },
     "execution_count": 29,
     "metadata": {},
     "output_type": "execute_result"
    }
   ],
   "source": [
    "a,b,c,div"
   ]
  },
  {
   "cell_type": "code",
   "execution_count": 27,
   "metadata": {
    "collapsed": false
   },
   "outputs": [
    {
     "data": {
      "text/plain": [
       "True"
      ]
     },
     "execution_count": 27,
     "metadata": {},
     "output_type": "execute_result"
    }
   ],
   "source": [
    "(a%div != 0)"
   ]
  },
  {
   "cell_type": "code",
   "execution_count": 28,
   "metadata": {
    "collapsed": false
   },
   "outputs": [
    {
     "data": {
      "text/plain": [
       "2"
      ]
     },
     "execution_count": 28,
     "metadata": {},
     "output_type": "execute_result"
    }
   ],
   "source": [
    "div"
   ]
  },
  {
   "cell_type": "code",
   "execution_count": 45,
   "metadata": {
    "collapsed": false
   },
   "outputs": [
    {
     "data": {
      "text/plain": [
       "True"
      ]
     },
     "execution_count": 45,
     "metadata": {},
     "output_type": "execute_result"
    }
   ],
   "source": [
    "(a//div != 1)&(b//div != 1)&(c//div != 1)"
   ]
  },
  {
   "cell_type": "code",
   "execution_count": 54,
   "metadata": {
    "collapsed": false
   },
   "outputs": [
    {
     "data": {
      "text/plain": [
       "15"
      ]
     },
     "execution_count": 54,
     "metadata": {},
     "output_type": "execute_result"
    }
   ],
   "source": [
    "if (c%div == 0):\n",
    "    c = c//div\n",
    "    key = 1\n",
    "c\n"
   ]
  },
  {
   "cell_type": "code",
   "execution_count": 61,
   "metadata": {
    "collapsed": false
   },
   "outputs": [],
   "source": [
    "key = -1"
   ]
  },
  {
   "cell_type": "code",
   "execution_count": 62,
   "metadata": {
    "collapsed": false
   },
   "outputs": [
    {
     "data": {
      "text/plain": [
       "(7, 6, 15, 2)"
      ]
     },
     "execution_count": 62,
     "metadata": {},
     "output_type": "execute_result"
    }
   ],
   "source": [
    "(a, b, c, div)"
   ]
  },
  {
   "cell_type": "code",
   "execution_count": null,
   "metadata": {
    "collapsed": true
   },
   "outputs": [],
   "source": []
  }
 ],
 "metadata": {
  "anaconda-cloud": {},
  "kernelspec": {
   "display_name": "Python [Root]",
   "language": "python",
   "name": "Python [Root]"
  },
  "language_info": {
   "codemirror_mode": {
    "name": "ipython",
    "version": 3
   },
   "file_extension": ".py",
   "mimetype": "text/x-python",
   "name": "python",
   "nbconvert_exporter": "python",
   "pygments_lexer": "ipython3",
   "version": "3.5.2"
  }
 },
 "nbformat": 4,
 "nbformat_minor": 2
}
