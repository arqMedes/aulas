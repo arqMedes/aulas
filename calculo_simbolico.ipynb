{
 "cells": [
  {
   "cell_type": "markdown",
   "metadata": {},
   "source": [
    "# Cálculo\n",
    "## Limites"
   ]
  },
  {
   "cell_type": "code",
   "execution_count": 1,
   "metadata": {
    "collapsed": true
   },
   "outputs": [],
   "source": [
    "from sympy import *\n",
    "init_printing()\n",
    "x, y = symbols('x y') #define x e y como variáveis simbólicas."
   ]
  },
  {
   "cell_type": "markdown",
   "metadata": {},
   "source": [
    "Agora, para fixarmos as ideias, vamos continuar nosso estudo sobre a\n",
    "\n",
    "$$\n",
    "f(x) = (x^3 - 3x + 2)e^{-x/4}-1\n",
    "$$\n",
    "\n",
    "A função do Sympy  LimitLimit  descreve o limite sem calculá-lo. "
   ]
  },
  {
   "cell_type": "code",
   "execution_count": 6,
   "metadata": {
    "collapsed": false
   },
   "outputs": [
    {
     "data": {
      "image/png": "[encoded data removed]",
      "text/latex": [
       "$$\\lim_{x \\to 1^+}\\left(\\left(x^{3} - 3 x + 2\\right) e^{- \\frac{x}{4}} - 1\\right)$$"
      ],
      "text/plain": [
       "     ⎛                -x     ⎞\n",
       "     ⎜                ───    ⎟\n",
       "     ⎜⎛ 3          ⎞   4     ⎟\n",
       " lim ⎝⎝x  - 3⋅x + 2⎠⋅ℯ    - 1⎠\n",
       "x─→1⁺                         "
      ]
     },
     "execution_count": 6,
     "metadata": {},
     "output_type": "execute_result"
    }
   ],
   "source": [
    "Limit(f(x), x, 1)"
   ]
  },
  {
   "cell_type": "code",
   "execution_count": 2,
   "metadata": {
    "collapsed": false
   },
   "outputs": [
    {
     "data": {
      "image/png": "[encoded data removed]",
      "text/latex": [
       "$$\\left(x^{3} - 3 x + 2\\right) e^{- \\frac{x}{4}} - 1$$"
      ],
      "text/plain": [
       "                -x     \n",
       "                ───    \n",
       "⎛ 3          ⎞   4     \n",
       "⎝x  - 3⋅x + 2⎠⋅ℯ    - 1"
      ]
     },
     "execution_count": 2,
     "metadata": {},
     "output_type": "execute_result"
    }
   ],
   "source": [
    "def f(x): \n",
    "    return (x**3 - 3*x + 2)*exp(-x/4)-1\n",
    "f(x)"
   ]
  },
  {
   "cell_type": "code",
   "execution_count": 3,
   "metadata": {
    "collapsed": false
   },
   "outputs": [
    {
     "data": {
      "image/png": "[encoded data removed]",
      "text/latex": [
       "$$-1$$"
      ],
      "text/plain": [
       "-1"
      ]
     },
     "execution_count": 3,
     "metadata": {},
     "output_type": "execute_result"
    }
   ],
   "source": [
    "limit(f(x), x,1)"
   ]
  },
  {
   "cell_type": "code",
   "execution_count": 9,
   "metadata": {
    "collapsed": false
   },
   "outputs": [],
   "source": [
    "def g(x):\n",
    "    return (((3*x + 5)**Rational(1,3)- 2))/(x**2 - 1)\n",
    "            \n",
    "def f1(x):\n",
    "    return (3*x + 5)**Rational(1,3) - 2\n",
    "\n",
    "def g1(x):\n",
    "    return x**2 - 1\n",
    "\n",
    "def h(x):\n",
    "    return x**5 + 2*x**4 + 4*x**3 - 2*x**2 - 4*x - 8"
   ]
  },
  {
   "cell_type": "code",
   "execution_count": 5,
   "metadata": {
    "collapsed": false
   },
   "outputs": [],
   "source": [
    "def f2(x):\n",
    "    return (x**Rational(1,2) - (x+1)**Rational(1,2))/((x+2)**Rational(1,2) - (x+3)**Rational(1,2))\n",
    "\n",
    "def f3(x):\n",
    "    return x**Rational(1,2) - (x+1)**Rational(1,2)\n",
    "\n",
    "def f4(x):\n",
    "    return (x+2)**Rational(1,2) + (x+3)**Rational(1,2)\n",
    "\n",
    "def f5(x):\n",
    "    return (x**2 - 3*x + 2)/(x - 1)"
   ]
  },
  {
   "cell_type": "code",
   "execution_count": 11,
   "metadata": {
    "collapsed": false
   },
   "outputs": [],
   "source": [
    "hp = f3(x)*f4(x)"
   ]
  },
  {
   "cell_type": "code",
   "execution_count": 7,
   "metadata": {
    "collapsed": false
   },
   "outputs": [
    {
     "data": {
      "image/png": "[encoded data removed]",
      "text/latex": [
       "$$1$$"
      ],
      "text/plain": [
       "1"
      ]
     },
     "execution_count": 7,
     "metadata": {},
     "output_type": "execute_result"
    }
   ],
   "source": [
    "limit(f2(x), x,oo)"
   ]
  },
  {
   "cell_type": "code",
   "execution_count": 13,
   "metadata": {
    "collapsed": false
   },
   "outputs": [
    {
     "data": {
      "image/png": "[encoded data removed]",
      "text/latex": [
       "$$\\sqrt{x} \\sqrt{x + 2} + \\sqrt{x} \\sqrt{x + 3} - \\sqrt{x + 1} \\sqrt{x + 2} - \\sqrt{x + 1} \\sqrt{x + 3}$$"
      ],
      "text/plain": [
       "     _______        _______     _______   _______     _______   _______\n",
       "√x⋅╲╱ x + 2  + √x⋅╲╱ x + 3  - ╲╱ x + 1 ⋅╲╱ x + 2  - ╲╱ x + 1 ⋅╲╱ x + 3 "
      ]
     },
     "execution_count": 13,
     "metadata": {},
     "output_type": "execute_result"
    }
   ],
   "source": [
    "expand(hp)"
   ]
  },
  {
   "cell_type": "code",
   "execution_count": 14,
   "metadata": {
    "collapsed": false
   },
   "outputs": [
    {
     "data": {
      "image/png": "[encoded data removed]",
      "text/latex": [
       "$$\\left(\\sqrt{x} - \\sqrt{x + 1}\\right) \\left(\\sqrt{x + 2} + \\sqrt{x + 3}\\right)$$"
      ],
      "text/plain": [
       "⎛       _______⎞ ⎛  _______     _______⎞\n",
       "⎝√x - ╲╱ x + 1 ⎠⋅⎝╲╱ x + 2  + ╲╱ x + 3 ⎠"
      ]
     },
     "execution_count": 14,
     "metadata": {},
     "output_type": "execute_result"
    }
   ],
   "source": [
    "simplify(hp)"
   ]
  },
  {
   "cell_type": "code",
   "execution_count": 16,
   "metadata": {
    "collapsed": false
   },
   "outputs": [
    {
     "data": {
      "image/png": "[encoded data removed]",
      "text/latex": [
       "$$-1$$"
      ],
      "text/plain": [
       "-1"
      ]
     },
     "execution_count": 16,
     "metadata": {},
     "output_type": "execute_result"
    }
   ],
   "source": [
    "limit(hp, x,oo)"
   ]
  },
  {
   "cell_type": "code",
   "execution_count": 3,
   "metadata": {
    "collapsed": false
   },
   "outputs": [
    {
     "data": {
      "image/png": "[encoded data removed]",
      "text/latex": [
       "$$\\frac{x^{2} - 3 x + 2}{x - 1}$$"
      ],
      "text/plain": [
       " 2          \n",
       "x  - 3⋅x + 2\n",
       "────────────\n",
       "   x - 1    "
      ]
     },
     "execution_count": 3,
     "metadata": {},
     "output_type": "execute_result"
    }
   ],
   "source": [
    "f5(x)"
   ]
  },
  {
   "cell_type": "code",
   "execution_count": 6,
   "metadata": {
    "collapsed": true
   },
   "outputs": [],
   "source": [
    "import numpy as np"
   ]
  },
  {
   "cell_type": "code",
   "execution_count": 7,
   "metadata": {
    "collapsed": false
   },
   "outputs": [
    {
     "data": {
      "image/png": "[encoded data removed]",
      "text/plain": [
       "<matplotlib.figure.Figure at 0x7fc188341b00>"
      ]
     },
     "metadata": {},
     "output_type": "display_data"
    }
   ],
   "source": [
    "%matplotlib inline\n",
    "import matplotlib.pyplot as plt\n",
    "\n",
    "x = np.linspace(-2, 2, 100)\n",
    "y = f5(x)\n",
    "plt.plot(x,y)\n",
    "plt.grid()"
   ]
  },
  {
   "cell_type": "code",
   "execution_count": 3,
   "metadata": {
    "collapsed": false
   },
   "outputs": [
    {
     "data": {
      "image/png": "[encoded data removed]",
      "text/latex": [
       "$$\\frac{\\sqrt[3]{3 x + 5} - 2}{x^{2} - 1}$$"
      ],
      "text/plain": [
       "3 _________    \n",
       "╲╱ 3⋅x + 5  - 2\n",
       "───────────────\n",
       "      2        \n",
       "     x  - 1    "
      ]
     },
     "execution_count": 3,
     "metadata": {},
     "output_type": "execute_result"
    }
   ],
   "source": [
    "g(x)"
   ]
  },
  {
   "cell_type": "code",
   "execution_count": 4,
   "metadata": {
    "collapsed": false
   },
   "outputs": [
    {
     "data": {
      "image/png": "[encoded data removed]",
      "text/latex": [
       "$$\\frac{1}{8}$$"
      ],
      "text/plain": [
       "1/8"
      ]
     },
     "execution_count": 4,
     "metadata": {},
     "output_type": "execute_result"
    }
   ],
   "source": [
    "limit(g(x), x,1)"
   ]
  },
  {
   "cell_type": "code",
   "execution_count": 10,
   "metadata": {
    "collapsed": false
   },
   "outputs": [
    {
     "data": {
      "image/png": "[encoded data removed]",
      "text/latex": [
       "$$x^{5} + 2 x^{4} + 4 x^{3} - 2 x^{2} - 4 x - 8$$"
      ],
      "text/plain": [
       " 5      4      3      2          \n",
       "x  + 2⋅x  + 4⋅x  - 2⋅x  - 4⋅x - 8"
      ]
     },
     "execution_count": 10,
     "metadata": {},
     "output_type": "execute_result"
    }
   ],
   "source": [
    "h(x)"
   ]
  },
  {
   "cell_type": "code",
   "execution_count": 11,
   "metadata": {
    "collapsed": false
   },
   "outputs": [
    {
     "data": {
      "image/png": "[encoded data removed]",
      "text/latex": [
       "$$8.0$$"
      ],
      "text/plain": [
       "8.0"
      ]
     },
     "execution_count": 11,
     "metadata": {},
     "output_type": "execute_result"
    }
   ],
   "source": [
    "h(2)/9"
   ]
  },
  {
   "cell_type": "code",
   "execution_count": 15,
   "metadata": {
    "collapsed": false
   },
   "outputs": [
    {
     "data": {
      "image/png": "[encoded data removed]",
      "text/latex": [
       "$$0$$"
      ],
      "text/plain": [
       "0"
      ]
     },
     "execution_count": 15,
     "metadata": {},
     "output_type": "execute_result"
    }
   ],
   "source": [
    "limit(g1(x), x,1)"
   ]
  },
  {
   "cell_type": "code",
   "execution_count": 13,
   "metadata": {
    "collapsed": false
   },
   "outputs": [
    {
     "data": {
      "image/png": "[encoded data removed]",
      "text/latex": [
       "$$\\frac{1}{4}$$"
      ],
      "text/plain": [
       "1/4"
      ]
     },
     "execution_count": 13,
     "metadata": {},
     "output_type": "execute_result"
    }
   ],
   "source": [
    "diff(f1(x),x).subs(x,1)"
   ]
  },
  {
   "cell_type": "code",
   "execution_count": 14,
   "metadata": {
    "collapsed": false
   },
   "outputs": [
    {
     "data": {
      "image/png": "[encoded data removed]",
      "text/latex": [
       "$$2$$"
      ],
      "text/plain": [
       "2"
      ]
     },
     "execution_count": 14,
     "metadata": {},
     "output_type": "execute_result"
    }
   ],
   "source": [
    "diff(g1(x),x).subs(x,1)"
   ]
  },
  {
   "cell_type": "code",
   "execution_count": null,
   "metadata": {
    "collapsed": true
   },
   "outputs": [],
   "source": [
    "Referências\n",
    "[1] Python Software Fundation (US): www.python.org\n",
    "[2] Sympy - Python Library for Symbolic Mathematics: www.sympy.org\n",
    "Related links\n",
    "[1] Sympy Gamma: https://gamma.sympy.org/\n",
    "[2] Sympy Live: live.sympy.org\n",
    "\n",
    "    \n",
    "    https://professor.ufrgs.br/pedro/files/2-limites.html\n",
    "    https://www.dicasdecalculo.com.br/conteudos/limites-e-continuidade/indeterminacao-no-calculo-dos-limites/"
   ]
  }
 ],
 "metadata": {
  "anaconda-cloud": {},
  "kernelspec": {
   "display_name": "Python [Root]",
   "language": "python",
   "name": "Python [Root]"
  },
  "language_info": {
   "codemirror_mode": {
    "name": "ipython",
    "version": 3
   },
   "file_extension": ".py",
   "mimetype": "text/x-python",
   "name": "python",
   "nbconvert_exporter": "python",
   "pygments_lexer": "ipython3",
   "version": "3.5.2"
  }
 },
 "nbformat": 4,
 "nbformat_minor": 2
}
