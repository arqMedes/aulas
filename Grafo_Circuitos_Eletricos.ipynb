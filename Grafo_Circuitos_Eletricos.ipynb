{
  "nbformat": 4,
  "nbformat_minor": 0,
  "metadata": {
    "colab": {
      "provenance": [],
      "authorship_tag": "ABX9TyOTl57fohYYvSLeDL8ZCZge",
      "include_colab_link": true
    },
    "kernelspec": {
      "name": "python3",
      "display_name": "Python 3"
    },
    "language_info": {
      "name": "python"
    }
  },
  "cells": [
    {
      "cell_type": "markdown",
      "metadata": {
        "id": "view-in-github",
        "colab_type": "text"
      },
      "source": [
        "<a href=\"https://colab.research.google.com/github/arqMedes/aulas/blob/master/Grafo_Circuitos_Eletricos.ipynb\" target=\"_parent\"><img src=\"https://colab.research.google.com/assets/colab-badge.svg\" alt=\"Open In Colab\"/></a>"
      ]
    },
    {
      "cell_type": "markdown",
      "source": [
        "# Teoria de Circuitos Elétricos\n",
        "\n",
        "![](https://github.com/arqMedes/images/blob/main/grafo_circuito_eletrico.jpg?raw=true)\n",
        "\n",
        "\n",
        "🔹 Etapa 1: Representação de um ramo\n",
        "\n",
        "Cada ramo precisa guardar informações como:\n",
        "\n",
        "**tipo:** (Resistor, Capacitor, Indutor, Fonte de Tensão, Fonte de Corrente, etc.)\n",
        "\n",
        "**valor:** (resistência, capacitância, etc.)\n",
        "\n",
        "**Vs:** (fonte de tensão equivalente do ramo)\n",
        "\n",
        "**Is:** (fonte de corrente equivalente do ramo)\n",
        "\n",
        "**corrente do ramo (I):**\n",
        "\n",
        "**tensão do ramo (V):**\n",
        "\n",
        "\n",
        "🔹 Etapa 2: Montagem da lista de ramos\n",
        "\n",
        "🔹 Etapa 3: Determinar a lista de Nós e a Matriz de Incidência A\n",
        "\n",
        "Se temos N nós e M ramos, a matriz de incidência A é uma matriz N × M onde:\n",
        "\n",
        "+1 → ramo sai do nó\n",
        "\n",
        "-1 → ramo entra no nó\n",
        "\n",
        "0 → ramo não conectado\n",
        "\n",
        "\n",
        "🔹 Etapa 4: Montar Vs, Is, G\n",
        "\n",
        "🔹 Etapa 5: Cálculos (Método dos Nós Modificado)\n",
        "\n",
        "$$G_b=A⋅G⋅A.T \\\\\n",
        "𝐼_𝑛 = 𝐴⋅(𝐺⋅𝑉_𝑠−𝐼_𝑠) \\\\\n",
        "E=G_b^{−1}.In \\\\\n",
        "V=A.T⋅E  \\\\\n",
        "I=I_s+G⋅(V−V_s)\n",
        "$$\n",
        "\n",
        "Implementação:\n",
        "\n",
        "\n",
        "🔹 Exemplo de circuito\n",
        "\n",
        "Fonte de tensão de 10 V (nó 1 para nó 0, que é a referência).\n",
        "\n",
        "Dois resistores em série ligados a essa fonte:\n",
        "\n",
        "R1 = 10 Ω (entre nó 1 e nó 2)\n",
        "\n",
        "R2 = 5 Ω (entre nó 2 e nó 0)\n",
        "\n",
        "Isso forma um divisor de tensão bem clássico.\n",
        "\n",
        "\n",
        "🔹 Resultado esperado\n",
        "\n",
        "Como é um divisor de tensão de 10 V com resistores 10 Ω e 5 Ω:\n",
        "\n"
      ],
      "metadata": {
        "id": "jlH1S4ORKRlo"
      }
    },
    {
      "cell_type": "code",
      "source": [
        "class Ramo:\n",
        "    def __init__(self, tipo, valor, Vs=0.0, Is=0.0):\n",
        "        self.tipo = tipo\n",
        "        self.valor = valor\n",
        "        self.Vs = Vs   # fonte de tensão no ramo\n",
        "        self.Is = Is   # fonte de corrente no ramo\n",
        "        self.I = 0.0   # corrente calculada\n",
        "        self.V = 0.0   # tensão calculada\n",
        "\n",
        "    def condutancia(self):\n",
        "        if self.tipo.lower() == \"resistor\" and self.valor != 0:\n",
        "            return 1.0 / self.valor\n",
        "        return 0.0\n"
      ],
      "metadata": {
        "id": "s2ymNXNGKeN5"
      },
      "execution_count": null,
      "outputs": []
    },
    {
      "cell_type": "code",
      "execution_count": null,
      "metadata": {
        "id": "8hMYoB80KJ4c"
      },
      "outputs": [],
      "source": [
        "circuito = [\n",
        "    Ramo(\"Resistor\", 10),\n",
        "    Ramo(\"Resistor\", 5),\n",
        "    Ramo(\"Fonte de Tensão\", 0, Vs=10),\n",
        "    Ramo(\"Fonte de Corrente\", 0, Is=2)\n",
        "]\n"
      ]
    },
    {
      "cell_type": "code",
      "source": [
        "import numpy as np\n",
        "\n",
        "# Exemplo: 3 nós (0 é referência), 4 ramos\n",
        "A = np.array([\n",
        "    [ 1, -1,  0,  0],  # nó 1\n",
        "    [-1,  0,  1, -1],  # nó 2\n",
        "    [ 0,  1, -1,  1]   # nó 3\n",
        "], dtype=float)\n"
      ],
      "metadata": {
        "id": "CkXHWgR_U5IT"
      },
      "execution_count": null,
      "outputs": []
    },
    {
      "cell_type": "code",
      "source": [
        "Vs = np.array([r.Vs for r in circuito], dtype=float)  # fontes de tensão\n",
        "Is = np.array([r.Is for r in circuito], dtype=float)  # fontes de corrente\n",
        "G  = np.diag([r.condutancia() for r in circuito])     # condutância diagonal\n"
      ],
      "metadata": {
        "id": "h25wgdzCU62e"
      },
      "execution_count": null,
      "outputs": []
    },
    {
      "cell_type": "code",
      "source": [
        "# 1) Gb\n",
        "Gb = A @ G @ A.T\n",
        "\n",
        "# 2) In\n",
        "In = A @ (G @ Vs - Is)\n",
        "\n",
        "# 3) E (tensões nos nós)\n",
        "E = np.linalg.solve(Gb, In)\n",
        "\n",
        "# 4) V (tensões nos ramos)\n",
        "V = A.T @ E\n",
        "\n",
        "# 5) I (correntes nos ramos)\n",
        "I = Is + G @ (V - Vs)\n",
        "\n",
        "# Atualiza ramos com resultados\n",
        "for k, r in enumerate(circuito):\n",
        "    r.V = V[k]\n",
        "    r.I = I[k]\n"
      ],
      "metadata": {
        "id": "puFMRxVpVAwi"
      },
      "execution_count": null,
      "outputs": []
    },
    {
      "cell_type": "code",
      "source": [
        "print(\"Tensões nos nós (E):\", E)\n",
        "print(\"Tensões nos ramos (V):\", V)\n",
        "print(\"Correntes nos ramos (I):\", I)\n",
        "\n",
        "for idx, r in enumerate(circuito):\n",
        "    print(f\"Ramo {idx+1} -> Tipo: {r.tipo}, V={r.V:.3f}, I={r.I:.3f}\")\n"
      ],
      "metadata": {
        "colab": {
          "base_uri": "https://localhost:8080/"
        },
        "id": "0kXtNHzaVI-L",
        "outputId": "48e674af-a50b-481f-bac4-77c8fb4bf5ab"
      },
      "execution_count": null,
      "outputs": [
        {
          "output_type": "stream",
          "name": "stdout",
          "text": [
            "Tensões nos nós (E): [ -6.  14. -16.]\n",
            "Tensões nos ramos (V): [-20. -10.  30. -30.]\n",
            "Correntes nos ramos (I): [-2. -2.  0.  2.]\n",
            "Ramo 1 -> Tipo: Resistor, V=-20.000, I=-2.000\n",
            "Ramo 2 -> Tipo: Resistor, V=-10.000, I=-2.000\n",
            "Ramo 3 -> Tipo: Fonte de Tensão, V=30.000, I=0.000\n",
            "Ramo 4 -> Tipo: Fonte de Corrente, V=-30.000, I=2.000\n"
          ]
        }
      ]
    },
    {
      "cell_type": "code",
      "source": [],
      "metadata": {
        "id": "SDZN7bozlura"
      },
      "execution_count": null,
      "outputs": []
    }
  ]
}