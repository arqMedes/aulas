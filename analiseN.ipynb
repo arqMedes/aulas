{
 "cells": [
  {
   "cell_type": "markdown",
   "metadata": {
    "collapsed": true
   },
   "source": [
    "# 1ª Lei de Kirchoff\n",
    "\n",
    "**A somatória das correntes em um nó é zero.**\n",
    "\n",
    "![](https://github.com/arqMedes/imgCirc/blob/35f02a7e786ac42a88064e864db9f275f5de8273/grafo_circ_elet.png?raw=true)\n",
    "\n",
    "\n",
    "$$\n",
    "\\begin{cases}\n",
    "nó \\hspace{2mm}  A: -i_1 + i_2  = 0 \\\\\n",
    "nó \\hspace{2mm} B: +i_1 -i_3 + i_5  = 0 \\\\\n",
    "nó \\hspace{2mm} D: -i_2 + i_3 + i_4  = 0\n",
    "\\end{cases}\n",
    "$$\n",
    "\n",
    "        \n",
    "Reescrevendo:      \n",
    "\n",
    "\n",
    "\n",
    "$$\n",
    "\\begin{bmatrix} -1 & 1  & 0 & 0 & 0\\\\ \n",
    " 1 & 0  & -1 & 0 & 1\\\\\n",
    " 0 & -1  & 1 & 1 & 0\\end{bmatrix}\n",
    "\\times\\begin{bmatrix} i_1 \\\\ i_2 \\\\ i_3 \\\\i_4 \\\\ i_5 \\end{bmatrix} = \n",
    "\\begin{bmatrix} 0 \\\\ 0 \\\\0 \\\\0 \\\\ 0 \\end{bmatrix}\n",
    "$$\n",
    "\n",
    "\n",
    "<center><font color=\"#008B8B\" face=\"verdana\" size=\"5\">A.I = 0</center> , onde A: matriz de incidência nó - ramos\n",
    "           \n",
    "\n",
    "|Elemento de A|Valor|Descrição|\n",
    "|---|---|---|\n",
    "|$a_{ij}$|1|se a corrente do ramo j sai do nó i|\n",
    "|$a_{ij}$|-1|se a corrente do ramo j entra no nó i\n",
    "|$a_{ij}$|0|se a corrente do ramo j não incide no nó i\n",
    "\n",
    "A tensão de cada ramo é dada por:\n",
    "    \n",
    "$$\n",
    "\\begin{cases}\n",
    "ramo \\hspace{2mm}  1: v_1 = E_B - E_A \\\\\n",
    "ramo \\hspace{2mm} 2: v_2 = E_A - E_D \\\\\n",
    "ramo \\hspace{2mm} 3: v_3 =  E_D - E_B \\\\\n",
    "ramo \\hspace{2mm} 4: v_4 = E_D \\\\\n",
    "ramo \\hspace{2mm} 5: v_5 = E_B \n",
    "\\end{cases}\n",
    "$$\n",
    "\n",
    "Matricialmente:\n",
    "    \n",
    "$$\n",
    "\\begin{bmatrix} -1 & 1  & 0\\\\ \n",
    " 1 & 0  & -1 \\\\\n",
    " 0 & -1  & 1 \\\\\n",
    " 0 & 0  & 1 \\\\\n",
    " 0 & 1  & 0 \\end{bmatrix}\n",
    "\\times\\begin{bmatrix} E_A \\\\ E_B \\\\ E_D  \\end{bmatrix} = \n",
    "\\begin{bmatrix} v_1 \\\\v_2 \\\\v_3 \\\\ v_4 \\\\ v_5  \\end{bmatrix}\n",
    "$$\n",
    "\n",
    "\n",
    "\n",
    "Observe que $V = A^t.E$\n",
    "    "
   ]
  },
  {
   "cell_type": "code",
   "execution_count": 16,
   "metadata": {},
   "outputs": [],
   "source": [
    "import numpy as np\n",
    "\n",
    "#Número de ramos \n",
    "r = 5\n",
    "#Número de nós \n",
    "n = 4 - 1  # Um nó é o de referência\n",
    "\n",
    "A = np.zeros((n , r))\n",
    "\n",
    "# ramo r1\n",
    "A[0, 0] = -1\n",
    "A[1, 0] =  1\n",
    "\n",
    "# ramo r2\n",
    "A[0, 1] = 1\n",
    "A[2, 1] = -1\n",
    "\n",
    "# ramo r3\n",
    "A[1, 2] = -1\n",
    "A[2, 2] = 1\n",
    "\n",
    "# ramo r4\n",
    "A[2, 3] = 1\n",
    "\n",
    "# ramo r5\n",
    "A[1, 4] = 1\n",
    "\n",
    "G = np.zeros((r, r))\n",
    "G[0, 0] = 7./10\n",
    "G[1, 1] = 1./5\n",
    "G[2, 2] = 1./10\n",
    "G[3, 3] = 1./4\n",
    "G[4, 4] = 1./2\n",
    "\n",
    "A = np.matrix(A)\n",
    "G = np.matrix(G)\n",
    "Gbarra = A*G*A.T\n",
    "\n",
    "Vs = np.zeros((r, 1))\n",
    "Is = np.zeros((r, 1))\n",
    "Is[0,0] = 1\n",
    "Is[1,0] = -2\n",
    "Is[3,0] = -3\n",
    "\n",
    "Is = np.matrix(Is)\n",
    "Vs = np.matrix(Vs)\n",
    "\n",
    "\n",
    "Is_no = A*(G*Vs - Is)\n",
    "E = Gbarra.I*Is_no"
   ]
  },
  {
   "cell_type": "code",
   "execution_count": 17,
   "metadata": {},
   "outputs": [
    {
     "data": {
      "text/plain": [
       "matrix([[ 0.9 , -0.7 , -0.2 ],\n",
       "        [-0.7 ,  1.3 , -0.1 ],\n",
       "        [-0.2 , -0.1 ,  0.55]])"
      ]
     },
     "execution_count": 17,
     "metadata": {},
     "output_type": "execute_result"
    }
   ],
   "source": [
    "Gbarra"
   ]
  },
  {
   "cell_type": "code",
   "execution_count": 18,
   "metadata": {},
   "outputs": [
    {
     "data": {
      "text/plain": [
       "matrix([[ 3.],\n",
       "        [-1.],\n",
       "        [ 1.]])"
      ]
     },
     "execution_count": 18,
     "metadata": {},
     "output_type": "execute_result"
    }
   ],
   "source": [
    "Is_no"
   ]
  },
  {
   "cell_type": "code",
   "execution_count": 19,
   "metadata": {},
   "outputs": [
    {
     "data": {
      "text/plain": [
       "matrix([[7.15789474],\n",
       "        [3.47368421],\n",
       "        [5.05263158]])"
      ]
     },
     "execution_count": 19,
     "metadata": {},
     "output_type": "execute_result"
    }
   ],
   "source": [
    "E"
   ]
  },
  {
   "cell_type": "markdown",
   "metadata": {},
   "source": [
    "Exemplo:\n",
    "    \n",
    "![](https://github.com/arqMedes/imgCirc/blob/master/anNodal.png?raw=true)\n",
    "\n",
    "![](https://github.com/arqMedes/imgCirc/blob/master/grafo_circ01.png?raw=true)"
   ]
  },
  {
   "cell_type": "code",
   "execution_count": 13,
   "metadata": {},
   "outputs": [],
   "source": [
    "#Número de ramos \n",
    "r = 9\n",
    "#Número de nós \n",
    "n = 4 - 1  # Um nó é o de referência"
   ]
  },
  {
   "cell_type": "code",
   "execution_count": 14,
   "metadata": {},
   "outputs": [],
   "source": [
    "import numpy as np\n",
    "A = np.zeros((n , r))"
   ]
  },
  {
   "cell_type": "code",
   "execution_count": 15,
   "metadata": {},
   "outputs": [
    {
     "data": {
      "text/plain": [
       "array([[ 1., -1.,  1.,  1., -1.,  0.,  0.,  0.,  0.],\n",
       "       [ 0.,  0.,  0., -1.,  1.,  1.,  0.,  1., -1.],\n",
       "       [-1.,  1., -1.,  0.,  0., -1.,  1.,  0.,  0.]])"
      ]
     },
     "execution_count": 15,
     "metadata": {},
     "output_type": "execute_result"
    }
   ],
   "source": [
    "# ramo r1\n",
    "A[0, 0] = 1\n",
    "A[2, 0] = -1\n",
    "\n",
    "# ramo r2\n",
    "A[0, 1] = -1\n",
    "A[2, 1] = 1\n",
    "\n",
    "# ramo r3\n",
    "A[0, 2] = 1\n",
    "A[2, 2] = -1\n",
    "\n",
    "# ramo r4\n",
    "A[0, 3] = 1\n",
    "A[1, 3] = -1\n",
    "\n",
    "# ramo r5\n",
    "A[0, 4] = -1\n",
    "A[1, 4] = 1\n",
    "\n",
    "# ramo r6\n",
    "A[1, 5] = 1\n",
    "A[2, 5] = -1\n",
    "\n",
    "# ramo r7\n",
    "A[2, 6] = 1\n",
    "\n",
    "# ramo r8\n",
    "A[1, 7] = 1\n",
    "\n",
    "# ramo r9\n",
    "A[1, 8] = -1\n",
    "\n",
    "A\n"
   ]
  },
  {
   "cell_type": "markdown",
   "metadata": {},
   "source": [
    "Ramo genérico:\n",
    "    \n",
    "\n",
    "![](https://github.com/arqMedes/imgCirc/blob/master/ramoGenerico.png?raw=true)\n",
    "    \n",
    "$i_k = I_{sk} + G.(v_k - V_{sk})$\n",
    "\n",
    "Considerando todos os ramos. Matricialmente, temos:\n",
    "\n",
    "$I = I_{s} + G.(V - V_{s})$\n",
    "\n",
    "Multiplica-se por A ambos os membros da equação.\n",
    "\n",
    "$A.I = A.(I_{s} + G.(V - V_{s}))$\n",
    "\n",
    "$0 = A.I_{s} + A.G.(A^t.E - V_{s})$, onde $V = A^t.E$\n",
    "\n",
    "$ (A.G.A^t).E = A(G.V_{s} - I_s)$\n",
    "\n",
    "$ G_{barra}.E = I_{s(nó)}$, onde $G_{barra} = (A.G.A^t)^{-1} $ e $I_{s(nó)} = A(G.V_{s} - I_s)$\n",
    "\n",
    "Portanto,\n",
    "\n",
    "> $E = G_{barra}^{-1}.I_{s(nó)}$"
   ]
  },
  {
   "cell_type": "code",
   "execution_count": null,
   "metadata": {},
   "outputs": [],
   "source": [
    "G = np.zeros((r, r))\n",
    "G[0, 0] = 1./5\n",
    "G[1, 1] = 1.e-10\n",
    "G[2, 2] = 1./2\n",
    "G[3, 3] = 1./5\n",
    "G[4, 4] = 1.e-10\n",
    "G[5, 5] = 1./10\n",
    "G[6, 6] = 1./2\n",
    "G[7, 7] = 1./4\n",
    "G[8, 8] = 1.e-10\n",
    "\n",
    "Vs = np.zeros((r, 1))\n",
    "Is = np.zeros((r, 1))\n",
    "Is[1,0] = 1\n",
    "Is[4,0] = 2\n",
    "Is[8,0] = 3\n",
    "\n",
    "Is = np.matrix(Is)\n",
    "Vs = np.matrix(Vs)\n",
    "G = np.matrix(G)\n",
    "A = np.matrix(A)\n",
    "Gbarra = A*G*A.T\n",
    "Is_no = A*(G*Vs - Is)\n",
    "E = Gbarra.I*Is_no\n",
    "Gbarra"
   ]
  },
  {
   "cell_type": "code",
   "execution_count": null,
   "metadata": {},
   "outputs": [],
   "source": [
    "Is_no"
   ]
  },
  {
   "cell_type": "code",
   "execution_count": null,
   "metadata": {},
   "outputs": [],
   "source": [
    "E"
   ]
  },
  {
   "cell_type": "code",
   "execution_count": null,
   "metadata": {
    "collapsed": true
   },
   "outputs": [],
   "source": [
    "$\\begin{pmatrix} 1 & 4 & 0 \\\\ -2 & 4 & 3\\end{pmatrix} \\times\\begin{pmatrix} 1 \\\\ 0 \\\\ -3\\end{pmatrix} = \\begin{pmatrix} 1 \\\\ -11\\end{pmatrix}$"
   ]
  },
  {
   "cell_type": "code",
   "execution_count": null,
   "metadata": {
    "collapsed": true
   },
   "outputs": [],
   "source": [
    "$$\n",
    "\\left[ \\begin{array}{rrrrr}\n",
    "-1 & 1  & 1 & 0 & 0\\\\ \n",
    " 1 & 0  & 0 & 0 & 1\\\\\n",
    " 0 & -1  & 0 & 1 & 0\\\\\n",
    "\\end{array} \\right]     \n",
    "$$    "
   ]
  },
  {
   "cell_type": "code",
   "execution_count": null,
   "metadata": {
    "collapsed": true
   },
   "outputs": [],
   "source": [
    "<table align=\"center\">\n",
    "    <tr>\n",
    "        <td align=\"center\">Some other text</td>\n",
    "        <td align=\"center\">More text</td>\n",
    "    </tr>\n",
    "    <tr>\n",
    "        <td align=\"center\">Some other text 2</td>\n",
    "        <td align=\"center\">More text 2</td>\n",
    "    </tr>\n",
    "</table>"
   ]
  },
  {
   "cell_type": "code",
   "execution_count": 1,
   "metadata": {
    "collapsed": true
   },
   "outputs": [],
   "source": [
    "#import matplotlib.pylab as P\n",
    "import numpy as np"
   ]
  },
  {
   "cell_type": "code",
   "execution_count": 2,
   "metadata": {
    "collapsed": true
   },
   "outputs": [],
   "source": [
    "import networkx as nx\n",
    "import csv"
   ]
  },
  {
   "cell_type": "code",
   "execution_count": 3,
   "metadata": {
    "collapsed": true
   },
   "outputs": [],
   "source": [
    "G = nx.MultiDiGraph()"
   ]
  },
  {
   "cell_type": "code",
   "execution_count": 4,
   "metadata": {},
   "outputs": [],
   "source": [
    "def componentes():\n",
    "    lEdges = G.edges(keys = True)\n",
    "    keys=[]\n",
    "    values = []\n",
    "    for elem in lEdges:\n",
    "        l = list(elem)\n",
    "        u = int(l[0])\n",
    "        v = int(l[1]) \n",
    "        keys.append(l[-1])\n",
    "        values.append((u, v))\n",
    "    return dict(zip(keys, values))\n",
    "\n",
    "def existeComponente(nomeC):\n",
    "    cc = componentes()\n",
    "    return cc.has_key(nomeC)\n",
    "\n",
    "\n",
    "def addComponente(nomeC,tipo, vReal,vImag, nP, nC):\n",
    "    \"\"\"\n",
    "        adiciona um novo componente\n",
    "        entre dois  vertices\n",
    "    \"\"\"  \n",
    "    #if existeComponente(nomeC):\n",
    "    #   print (\"componente ja definido\")\n",
    "    #   return\n",
    "    \n",
    "    G.add_edge(nP, nC, key=nomeC, vReal=vReal, vImag=vImag, tipo=tipo,tensao=0, corrente =0)\n",
    "    G.add_node(nP, eReal= 0, eImag=0)\n",
    "    G.add_node(nC, eReal= 0, eImag=0)\n",
    "    #drawGraph()\n",
    "    #P.pause(1.5)\n",
    "    \n",
    "    \n",
    "def addComponentes():\n",
    "    \"\"\"\n",
    "    componente eh um ramo do circuito\n",
    "    nome - tipo - valorReal - valorImag - no partida - no chegada\n",
    "    addComponente(\"R1\", 'R', 2, 1, 2)\n",
    "    \n",
    "    \"\"\"\n",
    "    \n",
    "\n",
    "    with open('circuito1.csv', 'r') as thefile:\n",
    "        thefile = csv.DictReader(thefile, delimiter=',')\n",
    "        for row in thefile:\n",
    "            nComp = row['Nome']\n",
    "            tComp = row['Tipo']\n",
    "            vReal = row['vReal']\n",
    "            vImag = row['vImag']\n",
    "            nP = row['nP']\n",
    "            nC = row['nC']\n",
    "            addComponente(nComp, tComp, float(vReal), float(vImag), int(nP), int(nC))\n",
    "            #print (nComp, tComp, float(vReal), float(vImag), int(nP), int(nC))\n",
    "        \n"
   ]
  },
  {
   "cell_type": "code",
   "execution_count": 5,
   "metadata": {},
   "outputs": [],
   "source": [
    "addComponentes()"
   ]
  },
  {
   "cell_type": "code",
   "execution_count": 6,
   "metadata": {},
   "outputs": [
    {
     "data": {
      "text/plain": [
       "[(0, 2), (1, 2), (1, 3), (1, 3), (2, 0), (2, 1), (2, 3), (3, 0), (3, 1)]"
      ]
     },
     "execution_count": 6,
     "metadata": {},
     "output_type": "execute_result"
    }
   ],
   "source": [
    "G.edges()"
   ]
  },
  {
   "cell_type": "code",
   "execution_count": 7,
   "metadata": {},
   "outputs": [
    {
     "data": {
      "text/plain": [
       "{'I1': (3, 1),\n",
       " 'I2': (2, 1),\n",
       " 'I3': (0, 2),\n",
       " 'R1': (1, 3),\n",
       " 'R2': (1, 3),\n",
       " 'R3': (2, 3),\n",
       " 'R4': (2, 0),\n",
       " 'R5': (1, 2),\n",
       " 'R6': (3, 0)}"
      ]
     },
     "execution_count": 7,
     "metadata": {},
     "output_type": "execute_result"
    }
   ],
   "source": [
    "componentes()"
   ]
  },
  {
   "cell_type": "code",
   "execution_count": 8,
   "metadata": {},
   "outputs": [
    {
     "data": {
      "text/plain": [
       "[0, 1, 2, 3]"
      ]
     },
     "execution_count": 8,
     "metadata": {},
     "output_type": "execute_result"
    }
   ],
   "source": [
    "G.nodes()"
   ]
  },
  {
   "cell_type": "code",
   "execution_count": 29,
   "metadata": {
    "collapsed": true
   },
   "outputs": [],
   "source": [
    "def mIncidencia(noRef):\n",
    "    \"\"\"\n",
    "    matriz com total de nos - 1 linhas e r colunas\n",
    "    \"\"\"\n",
    "    Nos = list(set(G.nodes()) - set([noRef]))\n",
    "    n = len(Nos)\n",
    "    meusNos = dict(zip(range(1, n+1), Nos))\n",
    "    ll = componentes()\n",
    "    m = len(ll)\n",
    "    mInc = np.zeros((n , m))\n",
    "    comp = list(ll.values())\n",
    "    c = list(ll.keys())\n",
    "    nosV = list(meusNos.values())\n",
    "    print ('nos = ',nosV)\n",
    "    print ('comp = ',comp)\n",
    "    print ('c = ', c)\n",
    "    for j in range(m):\n",
    "        vertice = comp[j][0]\n",
    "        #p = getPolaridade(c[j])\n",
    "        if (vertice in nosV):\n",
    "            mInc[nosV.index(vertice)][j] = 1  \n",
    "        vertice = comp[j][1]\n",
    "        if (vertice in nosV):\n",
    "            mInc[nosV.index(vertice)][j] = -1#p\n",
    "       \n",
    "            \n",
    "    \n",
    "    return np.matrix(mInc)\n",
    "    \n",
    "def mFonteTensao():\n",
    "    \"\"\"\n",
    "    matrix com total de r linhas fontes de tensao\n",
    "    \"\"\"\n",
    "    ll = componentes()\n",
    "    comp = ll.keys()\n",
    "    m = len(comp)\n",
    "    Vs = np.zeros((m, 1), dtype=complex)\n",
    "    for i in range(m): \n",
    "        c = comp[i]\n",
    "        v = getValor(c)\n",
    "        t = getTipo(c)\n",
    "        if (t == 'V'):\n",
    "          Vs[i] = 1.*v\n",
    "    return np.matrix(Vs)\n",
    "    \n",
    "def mFonteCorrente():\n",
    "    \"\"\"\n",
    "    matrix com total r linhas fontes de corrente\n",
    "    \"\"\"\n",
    "    ll = componentes()\n",
    "    comp = ll.keys()\n",
    "    m = len(comp)\n",
    "    Is = np.zeros((m, 1), dtype=complex)\n",
    "    for i in range(m): \n",
    "        c = comp[i]\n",
    "        v = getValor(c)\n",
    "        t = getTipo(c)\n",
    "        #p = getPolaridade(c)\n",
    "        if (t == 'I'):\n",
    "          Is[i] = 1.*v\n",
    "    return np.matrix(Is)\n",
    "    \n",
    "def mAdmitancia():\n",
    "    \"\"\"\n",
    "        matriz quadrado r X r com \n",
    "        diagonal com admitancias de ramos\n",
    "    \"\"\"  \n",
    "    ll = componentes()\n",
    "    comp = ll.keys()\n",
    "    m = len(comp)\n",
    "    Y = np.zeros((m, m), dtype=complex)\n",
    "    for i in range(m): \n",
    "        c = comp[i]\n",
    "        v = getValor(c)\n",
    "        t = getTipo(c)\n",
    "        if (t == 'V'):\n",
    "            v = 1e15\n",
    "        elif (t == 'R'):\n",
    "            v = 1./v\n",
    "        elif (t == 'I'):\n",
    "            v = 0.\n",
    "        print (' i = %d , Y = %s ' %(i, str(v)))\n",
    "        Y[i][i] = v\n",
    "    return np.matrix(Y)\n",
    "\n",
    "\n",
    "def analise(noRef): \n",
    "    A = mIncidencia(noRef)\n",
    "    Y = mAdmitancia()\n",
    "\n",
    "    nos = list(set(G.nodes()) - set([noRef]))    \n",
    "    n = len(nos) \n",
    "    \n",
    "    Is =mFonteCorrente()\n",
    "    Vs = mFonteTensao()\n",
    "\n",
    "    print ('\\n Nos = ',nos)\n",
    "    \n",
    "    ll = componentes()\n",
    "    comp = ll.keys()\n",
    "    print ('\\n Ramos = ',comp)\n",
    "    \n",
    "    print ('\\n Incidencia \\n ',A)\n",
    "    print ('\\n Is \\n ',Is)\n",
    "    print ('\\n Vs \\n ',Vs)\n",
    "    Ybarra = A*Y*A.T\n",
    "    print ('\\n Ybarra  \\n',Ybarra)\n",
    "    Zbarra = Ybarra.I\n",
    "    print ('\\n Zbarra  \\n',Zbarra)\n",
    "    Ibarra = A*(Y*Vs - Is)\n",
    "    print ('\\n Fonte Corrente Resultante  \\n',Ibarra)\n",
    "    \n",
    "    E = Zbarra*Ibarra\n",
    "    print ('\\n Tensao de barra  \\n',E)\n",
    "    \n",
    "    Vramo= (A.T)*E\n",
    "    print ('\\n Tensao de Ramo  \\n',Vramo)\n",
    "    Iramo = Y*Vramo\n",
    "    print ('\\n Correntes de Ramo  \\n',Iramo)\n",
    "    # a = float(E[0]) \n",
    "    \n",
    "    for i in range(n): # eReal= 0, eImag=0\n",
    "        a = float( E[i].real)\n",
    "        b = float(E[i].imag)\n",
    "        G.add_node(int(nos[i]), eReal = a,eImag = b )"
   ]
  },
  {
   "cell_type": "code",
   "execution_count": 30,
   "metadata": {},
   "outputs": [
    {
     "name": "stdout",
     "output_type": "stream",
     "text": [
      "nos =  [1, 2, 3]\n",
      "comp =  [(1, 3), (1, 3), (2, 1), (3, 0), (1, 2), (3, 1), (2, 0), (2, 3), (0, 2)]\n",
      "c =  ['R2', 'R1', 'I2', 'R6', 'R5', 'I1', 'R4', 'R3', 'I3']\n"
     ]
    }
   ],
   "source": [
    "A = mIncidencia(0)"
   ]
  },
  {
   "cell_type": "code",
   "execution_count": 31,
   "metadata": {},
   "outputs": [
    {
     "data": {
      "text/plain": [
       "matrix([[ 1.,  1., -1.,  0.,  1., -1.,  0.,  0.,  0.],\n",
       "        [ 0.,  0.,  1.,  0., -1.,  0.,  1.,  1., -1.],\n",
       "        [-1., -1.,  0.,  1.,  0.,  1.,  0., -1.,  0.]])"
      ]
     },
     "execution_count": 31,
     "metadata": {},
     "output_type": "execute_result"
    }
   ],
   "source": [
    "A"
   ]
  },
  {
   "cell_type": "code",
   "execution_count": null,
   "metadata": {
    "collapsed": true
   },
   "outputs": [],
   "source": [
    "def setValor(componente, newValor):\n",
    "    (u,v) = vertices(componente)  \n",
    "    G.add_edge(u,v,key=componente, valor=newValor)\n",
    "    \n",
    "             \n",
    "  \n",
    " \n",
    "def getComponente(u, v):\n",
    "    \"\"\"\n",
    "        E se houver mais de uma aresta entre dois nos?\n",
    "    o componente pode ser de v para u\n",
    "    use um try\n",
    "    \"\"\"   \n",
    "    ll = componentes()\n",
    "    D = {ll[k]: k for k in ll}\n",
    "    e = (u, v) \n",
    "    if e not in D:\n",
    "        e = (v, u)\n",
    "        l = D[e]\n",
    "        #t = getTipo(l)\n",
    "        #if (t=='I')or(t=='V'):\n",
    "        # alterar matriz A\n",
    "        #chPolaridade(l)\n",
    "        #p = getPolaridade(l)\n",
    "        #print '\\n Polaridade Trocada', e, ' ' , l, ' -> ' ,p \n",
    "        \"\"\"va = -getValor(l)\n",
    "        print 30*'-'\n",
    "        print '\\n (%d, %d) = %d ' % (v, u, va) \n",
    "        print 30*'-'\n",
    "        setValor(l, va)\"\"\"\n",
    "    l = D[e]\n",
    "    \n",
    "    return l\n",
    "\n",
    "\n",
    "    \n",
    "def getDados(componente):\n",
    "    (u,v) = vertices(componente)\n",
    "    D = G.get_edge_data(u,v, key=componente)\n",
    "    return D            \n",
    "        \n",
    "def getValor(componente):\n",
    "    #(u,v) = vertices(componente)\n",
    "    D = getDados(componente)\n",
    "    #D = G.get_edge_data(u,v, key=componente)\n",
    "    z = D['vReal'] + D['vImag']*1.j\n",
    "    return z\n",
    "\n",
    "def getTipo(componente):\n",
    "    (u,v) = vertices(componente)\n",
    "    D = getDados(componente)\n",
    "    #D = G.get_edge_data(u,v, key=componente)\n",
    "    return D['tipo']\n",
    "    \n",
    "\n",
    "    \n",
    "def vertices(nomeEdge):\n",
    "    d = componentes()\n",
    "    return d[nomeEdge]\n",
    "\n",
    "            \n",
    "def drawGraph():\n",
    "    edgelist= G.edges(data=True)\n",
    "    \n",
    "    P.clf()\n",
    "    pos = nx.spring_layout(G)\n",
    "    nx.draw_networkx_nodes(G, pos, node_color = 'r')\n",
    "    nx.draw_networkx_edges(G,pos, edgelist, edge_color='b', arrows=True)\n",
    "    nx.draw_networkx_labels(G,pos,font_size=20,font_family='sans-serif')\n",
    "   \n",
    "    ll = componentes()\n",
    "    \n",
    "    edge_nome= {ll[k]: k for k in ll}\n",
    "    nx.draw_networkx_edge_labels(G, pos, edge_nome)\n",
    "\n",
    "\n",
    "# ler componentes de um arquivo\n",
    "addComponentes()\n",
    "\"\"\"\n",
    " digitar o comando \n",
    " \n",
    " >>>analise(noRef)\n",
    " para ter as tensoes e correntes\n",
    "     \n",
    "\"\"\""
   ]
  }
 ],
 "metadata": {
  "anaconda-cloud": {},
  "kernelspec": {
   "display_name": "Python 3",
   "language": "python",
   "name": "python3"
  },
  "language_info": {
   "codemirror_mode": {
    "name": "ipython",
    "version": 3
   },
   "file_extension": ".py",
   "mimetype": "text/x-python",
   "name": "python",
   "nbconvert_exporter": "python",
   "pygments_lexer": "ipython3",
   "version": "3.6.5"
  }
 },
 "nbformat": 4,
 "nbformat_minor": 2
}
