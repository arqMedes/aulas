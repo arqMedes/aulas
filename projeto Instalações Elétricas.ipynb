{
 "cells": [
  {
   "cell_type": "markdown",
   "metadata": {},
   "source": [
    "Ler um arquivo com os dados iniciais de uma Instalação Elétrica"
   ]
  },
  {
   "cell_type": "code",
   "execution_count": 6,
   "metadata": {
    "collapsed": true
   },
   "outputs": [],
   "source": [
    "import csv\n",
    "def lerIE(nomeArq, cabecalhos = None):\n",
    "    \"\"\"\n",
    "        nomeArq representa um arquivo CSV e cabecalhos é uma lista.\n",
    "        Retorna uma lista de dicionarios com o conteúdo do arquivo; \n",
    "        \n",
    "    \"\"\"\n",
    "    with open(nomeArq, 'r') as arqCSV:\n",
    "        leitor = csv.DictReader(arqCSV, cabecalhos, delimiter = ';')\n",
    "        resultado = {}\n",
    "        try:\n",
    "            for linha in leitor:\n",
    "                k = linha['Comodo']\n",
    "                linha.pop('Comodo')\n",
    "                v = linha\n",
    "                    \n",
    "                resultado[k] = v\n",
    "        except csv.Error as e:\n",
    "            sys.exit('arquivo %s, linha %d: %s' % (nomeArq, leitor.line_num, e))\n",
    "    return resultado\n",
    "    "
   ]
  },
  {
   "cell_type": "code",
   "execution_count": 7,
   "metadata": {
    "collapsed": false
   },
   "outputs": [],
   "source": [
    "comodos = lerIE('data/planta_dim.csv')"
   ]
  },
  {
   "cell_type": "code",
   "execution_count": 8,
   "metadata": {
    "collapsed": false
   },
   "outputs": [
    {
     "data": {
      "text/plain": [
       "'20'"
      ]
     },
     "execution_count": 8,
     "metadata": {},
     "output_type": "execute_result"
    }
   ],
   "source": [
    "comodos['Sala']['Perimetro']"
   ]
  },
  {
   "cell_type": "code",
   "execution_count": 33,
   "metadata": {
    "collapsed": false
   },
   "outputs": [],
   "source": [
    "class eletInstall:\n",
    "    def __init__(self, comodos):\n",
    "        self.comodos = comodos\n",
    "        self.cargas = {}\n",
    "        \n",
    "    def __potIlum__(self, area):\n",
    "        p = 100\n",
    "        n = 0\n",
    "        if area > 6:\n",
    "            n = (area - 6)//4\n",
    "        return p + n*60\n",
    "    \n",
    "    def numeroTUGs(self):\n",
    "        for k in comodos.keys():\n",
    "            per = float(comodos[k]['Perimetro'].replace(',','.'))\n",
    "            n = 1\n",
    "            if ((k == 'Quarto') or (k == 'Sala')):\n",
    "                n = round(per/5)\n",
    "            elif ((k == 'Cozinha') or (k == 'Area de Servicos')):\n",
    "                n = round(per/3.5)\n",
    "            print(\"Perimetro do(a) %s eh %f  e o numero de TUGs eh de %f.\" %(k, per, n))\n",
    "    \n",
    "    def cargasIluminacao(self):\n",
    "        for k in comodos.keys():\n",
    "            area = float(comodos[k]['Area'].replace(',','.'))\n",
    "            pot = self.__potIlum__(area)\n",
    "            print(\"Area do(a) %s eh %f  e a potencia de iluminacao eh de %f W.\" %(k, area, pot))\n",
    "    "
   ]
  },
  {
   "cell_type": "code",
   "execution_count": 34,
   "metadata": {
    "collapsed": false
   },
   "outputs": [],
   "source": [
    "myInstall = eletInstall(comodos)"
   ]
  },
  {
   "cell_type": "code",
   "execution_count": 35,
   "metadata": {
    "collapsed": false
   },
   "outputs": [
    {
     "name": "stdout",
     "output_type": "stream",
     "text": [
      "Area do(a) Quarto eh 13.570000  e a potencia de iluminacao eh de 160.000000 W.\n",
      "Area do(a) Hall eh 0.850000  e a potencia de iluminacao eh de 100.000000 W.\n",
      "Area do(a) Sala eh 24.000000  e a potencia de iluminacao eh de 340.000000 W.\n",
      "Area do(a) BWC eh 2.820000  e a potencia de iluminacao eh de 100.000000 W.\n",
      "Area do(a) Cozinha eh 5.890000  e a potencia de iluminacao eh de 100.000000 W.\n"
     ]
    }
   ],
   "source": [
    "myInstall.cargasIluminacao()"
   ]
  },
  {
   "cell_type": "code",
   "execution_count": 36,
   "metadata": {
    "collapsed": false
   },
   "outputs": [
    {
     "name": "stdout",
     "output_type": "stream",
     "text": [
      "Perimetro do(a) Quarto eh 15.000000  e o numero de TUGs eh de 3.000000.\n",
      "Perimetro do(a) Hall eh 3.700000  e o numero de TUGs eh de 1.000000.\n",
      "Perimetro do(a) Sala eh 20.000000  e o numero de TUGs eh de 4.000000.\n",
      "Perimetro do(a) BWC eh 7.100000  e o numero de TUGs eh de 1.000000.\n",
      "Perimetro do(a) Cozinha eh 10.000000  e o numero de TUGs eh de 3.000000.\n"
     ]
    }
   ],
   "source": [
    "myInstall.numeroTUGs()"
   ]
  },
  {
   "cell_type": "code",
   "execution_count": null,
   "metadata": {
    "collapsed": true
   },
   "outputs": [],
   "source": [
    "class carga:\n",
    "    pass\n",
    "\n",
    "class lampada(carga):\n",
    "    pass\n",
    "\n",
    "class tomada(carga):\n",
    "    pass"
   ]
  },
  {
   "cell_type": "markdown",
   "metadata": {},
   "source": [
    "# Rascunho --- Testes --- Parenteses"
   ]
  },
  {
   "cell_type": "code",
   "execution_count": 50,
   "metadata": {
    "collapsed": true
   },
   "outputs": [],
   "source": [
    "def potIlum(area):\n",
    "    p = 100\n",
    "    n = abs(area - 6)//4\n",
    "    return p + n*60"
   ]
  },
  {
   "cell_type": "code",
   "execution_count": 53,
   "metadata": {
    "collapsed": false
   },
   "outputs": [
    {
     "data": {
      "text/plain": [
       "100"
      ]
     },
     "execution_count": 53,
     "metadata": {},
     "output_type": "execute_result"
    }
   ],
   "source": [
    "potIlum(3)"
   ]
  },
  {
   "cell_type": "code",
   "execution_count": 40,
   "metadata": {
    "collapsed": true
   },
   "outputs": [],
   "source": [
    "a= \"97.5653\""
   ]
  },
  {
   "cell_type": "code",
   "execution_count": 41,
   "metadata": {
    "collapsed": false
   },
   "outputs": [
    {
     "data": {
      "text/plain": [
       "'97.5653'"
      ]
     },
     "execution_count": 41,
     "metadata": {},
     "output_type": "execute_result"
    }
   ],
   "source": [
    "a.replace(',','.')"
   ]
  },
  {
   "cell_type": "code",
   "execution_count": 2,
   "metadata": {
    "collapsed": true
   },
   "outputs": [],
   "source": [
    "comodos = ['Sala', 'Quarto','BWC','Hall','Cozinha']"
   ]
  },
  {
   "cell_type": "code",
   "execution_count": 10,
   "metadata": {
    "collapsed": true
   },
   "outputs": [],
   "source": [
    "myInstall = {'BWC': {'Area': '2.82', 'Perimetro': '7.1'},\n",
    " 'Cozinha': {'Area': '5.89', 'Perimetro': '10'},\n",
    " 'Hall': {'Area': '0.85', 'Perimetro': '3.7'},\n",
    " 'Quarto': {'Area': '13.57', 'Perimetro': '15'},\n",
    " 'Sala': {'Area': '24', 'Perimetro': '20'}}"
   ]
  },
  {
   "cell_type": "code",
   "execution_count": 6,
   "metadata": {
    "collapsed": false
   },
   "outputs": [
    {
     "name": "stdout",
     "output_type": "stream",
     "text": [
      "\n",
      "Favor digitar as dimensões do(a) Sala \n",
      "Area = 24\n",
      "Perímetro = 20\n",
      "\n",
      "Favor digitar as dimensões do(a) Quarto \n",
      "Area = 13.57\n",
      "Perímetro = 15\n",
      "\n",
      "Favor digitar as dimensões do(a) BWC \n",
      "Area = 2.82\n",
      "Perímetro = 7.1\n",
      "\n",
      "Favor digitar as dimensões do(a) Hall \n",
      "Area = 0.85\n",
      "Perímetro = 3.7\n",
      "\n",
      "Favor digitar as dimensões do(a) Cozinha \n",
      "Area = 5.89\n",
      "Perímetro = 10\n"
     ]
    }
   ],
   "source": [
    "myInstall = {}\n",
    "for k in comodos:\n",
    "    dados = {}\n",
    "    print (\"\\nFavor digitar as dimensões do(a) %s \" %k)\n",
    "    area = input(\"Area = \")\n",
    "    dados['Area'] = area\n",
    "    per = input(\"Perímetro = \")\n",
    "    dados['Perimetro'] = per\n",
    "    myInstall[k] = dados"
   ]
  },
  {
   "cell_type": "code",
   "execution_count": 7,
   "metadata": {
    "collapsed": false
   },
   "outputs": [
    {
     "data": {
      "text/plain": [
       "{'BWC': {'Area': '2.82', 'Perimetro': '7.1'},\n",
       " 'Cozinha': {'Area': '5.89', 'Perimetro': '10'},\n",
       " 'Hall': {'Area': '0.85', 'Perimetro': '3.7'},\n",
       " 'Quarto': {'Area': '13.57', 'Perimetro': '15'},\n",
       " 'Sala': {'Area': '24', 'Perimetro': '20'}}"
      ]
     },
     "execution_count": 7,
     "metadata": {},
     "output_type": "execute_result"
    }
   ],
   "source": [
    "myInstall"
   ]
  },
  {
   "cell_type": "code",
   "execution_count": 9,
   "metadata": {
    "collapsed": false
   },
   "outputs": [
    {
     "data": {
      "text/plain": [
       "'20'"
      ]
     },
     "execution_count": 9,
     "metadata": {},
     "output_type": "execute_result"
    }
   ],
   "source": [
    "myInstall['Sala']['Perimetro']"
   ]
  },
  {
   "cell_type": "code",
   "execution_count": 31,
   "metadata": {
    "collapsed": false
   },
   "outputs": [
    {
     "data": {
      "text/plain": [
       "2.0"
      ]
     },
     "execution_count": 31,
     "metadata": {},
     "output_type": "execute_result"
    }
   ],
   "source": [
    "10//3.5"
   ]
  },
  {
   "cell_type": "code",
   "execution_count": 32,
   "metadata": {
    "collapsed": false
   },
   "outputs": [
    {
     "data": {
      "text/plain": [
       "3"
      ]
     },
     "execution_count": 32,
     "metadata": {},
     "output_type": "execute_result"
    }
   ],
   "source": [
    "round(10/3.5)"
   ]
  },
  {
   "cell_type": "markdown",
   "metadata": {},
   "source": [
    "# links"
   ]
  },
  {
   "cell_type": "markdown",
   "metadata": {},
   "source": [
    "https://desenvolvimentoaberto.org/2014/02/22/dicionarios-python-linux/"
   ]
  },
  {
   "cell_type": "code",
   "execution_count": null,
   "metadata": {
    "collapsed": true
   },
   "outputs": [],
   "source": []
  }
 ],
 "metadata": {
  "anaconda-cloud": {},
  "kernelspec": {
   "display_name": "Python [Root]",
   "language": "python",
   "name": "Python [Root]"
  },
  "language_info": {
   "codemirror_mode": {
    "name": "ipython",
    "version": 3
   },
   "file_extension": ".py",
   "mimetype": "text/x-python",
   "name": "python",
   "nbconvert_exporter": "python",
   "pygments_lexer": "ipython3",
   "version": "3.5.2"
  }
 },
 "nbformat": 4,
 "nbformat_minor": 0
}
