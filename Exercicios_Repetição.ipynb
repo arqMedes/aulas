{
 "cells": [
  {
   "cell_type": "markdown",
   "metadata": {},
   "source": [
    "# Decomposição em fatores primos\n",
    "\n",
    "#include <stdio.h>\n",
    "\n",
    "/* Recebe um número inteiro n > 0 e mostra sua decomposição em\n",
    "\n",
    "fatores primos, calculando a multiplicidade de cada fator */\n",
    "\n",
    "int main(void)\n",
    "\n",
    "{\n",
    "\n",
    "       int n, p, q, primo, div;\n",
    "       printf(\"Informe n: \");\n",
    "       scanf(\"%d\", &n);\n",
    "       p = 2;\n",
    "       while (n > 1) {\n",
    "             q = 0;\n",
    "                while (n % p == 0) {\n",
    "                q = q + 1;\n",
    "                        n = n / p;\n",
    "             }\n",
    "              if (q > 0)\n",
    "              printf(\"fator %d com multiplicidade %d\\n\", p, q);\n",
    "              primo = 0;\n",
    "              while (! primo) {\n",
    "                       p = p + 1;\n",
    "                       div = 2;\n",
    "                      primo = 1;\n",
    "                  while (div <= p / 2 && primo) {\n",
    "                       if (p % div == 0)\n",
    "                            primo = 0\n",
    "                       else\n",
    "                            div = div + 1;\n",
    "                 }\n",
    "         }\n",
    "     }\n",
    "     \n",
    "   return 0;\n",
    "   }\n",
    "   "
   ]
  },
  {
   "cell_type": "code",
   "execution_count": 22,
   "metadata": {},
   "outputs": [
    {
     "name": "stdout",
     "output_type": "stream",
     "text": [
      " 36 =  2 x  2 x  3 x  3 x "
     ]
    }
   ],
   "source": [
    "n = 36\n",
    "p = 2\n",
    "lista = []\n",
    "print (\"% d = \" %n, end='', flush=True)\n",
    "while (n > 1):\n",
    "    q = 0\n",
    "    while (n%p == 0):\n",
    "        q += 1\n",
    "        n = n//p\n",
    "        lista += [n]\n",
    "    if (q > 0):\n",
    "        for i in range(q):\n",
    "            '''\n",
    "            if (n == 1):\n",
    "                print(\" %d \" % p , end='', flush=True)\n",
    "            else:\n",
    "            '''\n",
    "            print(\" %d x \" % p , end='', flush=True)\n",
    "        primo = 0\n",
    "        while (not primo):\n",
    "            p += 1\n",
    "            div = 2\n",
    "            primo = 1\n",
    "            while (div <= p / 2 and primo):\n",
    "                if (p % div == 0):\n",
    "                    primo = 0\n",
    "                else:\n",
    "                    div = div + 1\n",
    "        "
   ]
  },
  {
   "cell_type": "code",
   "execution_count": 2,
   "metadata": {},
   "outputs": [
    {
     "data": {
      "text/plain": [
       "False"
      ]
     },
     "execution_count": 2,
     "metadata": {},
     "output_type": "execute_result"
    }
   ],
   "source": [
    "not 1"
   ]
  },
  {
   "cell_type": "code",
   "execution_count": 19,
   "metadata": {},
   "outputs": [
    {
     "data": {
      "text/plain": [
       "[18, 9, 3, 1]"
      ]
     },
     "execution_count": 19,
     "metadata": {},
     "output_type": "execute_result"
    }
   ],
   "source": [
    "lista"
   ]
  },
  {
   "cell_type": "code",
   "execution_count": null,
   "metadata": {},
   "outputs": [],
   "source": [
    "exercícios:\n",
    "    gerar fração a partir de um numero decimal 29\n",
    "Transforma decimal em fração (+++)\n",
    "    "
   ]
  }
 ],
 "metadata": {
  "kernelspec": {
   "display_name": "Python 3",
   "language": "python",
   "name": "python3"
  },
  "language_info": {
   "codemirror_mode": {
    "name": "ipython",
    "version": 3
   },
   "file_extension": ".py",
   "mimetype": "text/x-python",
   "name": "python",
   "nbconvert_exporter": "python",
   "pygments_lexer": "ipython3",
   "version": "3.6.5"
  }
 },
 "nbformat": 4,
 "nbformat_minor": 2
}
